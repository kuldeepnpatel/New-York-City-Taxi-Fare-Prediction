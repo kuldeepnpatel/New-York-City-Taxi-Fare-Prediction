{
  "cells": [
    {
      "metadata": {
        "_uuid": "b3f511261ab6660fa9e74b24912c094b7c8ea032"
      },
      "cell_type": "markdown",
      "source": " Competition : **New York City Taxi Fare Prediction** (https://www.kaggle.com/c/new-york-city-taxi-fare-prediction            \n\n* Predict a rider's taxi fare"
    },
    {
      "metadata": {
        "_uuid": "8f2839f25d086af736a60e9eeb907d3b93b6e0e5",
        "_cell_guid": "b1076dfc-b9ad-4769-8c92-a6c4dae69d19",
        "trusted": true
      },
      "cell_type": "code",
      "source": "# This Python 3 environment comes with many helpful analytics libraries installed\n# It is defined by the kaggle/python docker image: https://github.com/kaggle/docker-python\n# For example, here's several helpful packages to load in \n\nimport numpy as np # linear algebra\nimport pandas as pd # data processing, CSV file I/O (e.g. pd.read_csv)\nimport matplotlib.pyplot as plt\n%matplotlib inline\nimport seaborn as sns\n\n# Input data files are available in the \"../input/\" directory.\n# For example, running this (by clicking run or pressing Shift+Enter) will list the files in the input directory\n\nimport os\nprint(os.listdir(\"../input\"))\n\n# Any results you write to the current directory are saved as output.",
      "execution_count": null,
      "outputs": []
    },
    {
      "metadata": {
        "_uuid": "0ab8710a504853ee4242f2b4850de8778dfa4abe"
      },
      "cell_type": "markdown",
      "source": "* Load the dataset and set number of rows as nrows =3900000"
    },
    {
      "metadata": {
        "trusted": true,
        "_uuid": "7ef5c283a1d31d168c10ac3c0025fc49046b9d12"
      },
      "cell_type": "code",
      "source": "data=pd.read_csv(\"../input/train.csv\",nrows = 3900000)\ndata.columns",
      "execution_count": null,
      "outputs": []
    },
    {
      "metadata": {
        "trusted": true,
        "_uuid": "fb3808b1329dd875cebb2fdbaa13911d211f97fe"
      },
      "cell_type": "code",
      "source": "#remove key column\ncols = ['fare_amount', 'pickup_datetime', 'pickup_longitude', 'pickup_latitude', 'dropoff_longitude', 'dropoff_latitude', 'passenger_count']\ndata=pd.read_csv(\"../input/train.csv\",nrows = 3900000,usecols=cols)\nprint(data.columns)\nprint(data.shape)",
      "execution_count": null,
      "outputs": []
    },
    {
      "metadata": {
        "_uuid": "511dceedf080665a22de59c14050f672bc1b8ee7"
      },
      "cell_type": "markdown",
      "source": "\n**Data Wrangling**\n* Identify and handle missing values\n    -replace it with its mean \n    -drop the rows/columns having missing values\n* Find outliers\n* data formating (Incorrect datatype)\n* Fetaure Scaling/Normlization"
    },
    {
      "metadata": {
        "trusted": true,
        "_uuid": "c8551c1a22df65c02d515269f9915a316fce0e32"
      },
      "cell_type": "code",
      "source": "data.head(5)",
      "execution_count": null,
      "outputs": []
    },
    {
      "metadata": {
        "trusted": true,
        "_uuid": "496b4a452dcb9a74f265da875d51937736bdb06f"
      },
      "cell_type": "code",
      "source": "data.describe()",
      "execution_count": null,
      "outputs": []
    },
    {
      "metadata": {
        "_uuid": "83658950665bd196ba5d619985d6377d7f9fecb1"
      },
      "cell_type": "markdown",
      "source": "**fare amount column :-**\nFound negative value of fare amount. Fare never be negative let's drop those rows which are having negative fare amount and also remove outliers"
    },
    {
      "metadata": {
        "trusted": true,
        "_uuid": "caa91fef6640e735b8bd92ff59dd76f1aa2fc236"
      },
      "cell_type": "code",
      "source": "plt.scatter(x=data.fare_amount,y=data.index)\nplt.ylabel('Index')\nplt.xlabel('fare_amount')\nplt.show()",
      "execution_count": null,
      "outputs": []
    },
    {
      "metadata": {
        "trusted": true,
        "_uuid": "5eeb40a1651dc6a6f81d710baf2f8ad6761171da"
      },
      "cell_type": "code",
      "source": "data['fare_amount'][(data.fare_amount<0) | (data.fare_amount>=300)].count()",
      "execution_count": null,
      "outputs": []
    },
    {
      "metadata": {
        "trusted": true,
        "_uuid": "c57dcc2427937f4680d4f3ce1782505ccaac9c9f"
      },
      "cell_type": "code",
      "source": "data.shape",
      "execution_count": null,
      "outputs": []
    },
    {
      "metadata": {
        "trusted": true,
        "_uuid": "1f7cd432bb95dc6e18d8f9c557f1a08a9c87c43c"
      },
      "cell_type": "code",
      "source": "data=data.drop(data[(data.fare_amount<0) | (data.fare_amount>=300)].index,axis=0)",
      "execution_count": null,
      "outputs": []
    },
    {
      "metadata": {
        "trusted": true,
        "_uuid": "b20937caf05e01f308c79f4377546c19bded9601"
      },
      "cell_type": "code",
      "source": "data.fare_amount.isnull().sum()",
      "execution_count": null,
      "outputs": []
    },
    {
      "metadata": {
        "trusted": true,
        "_uuid": "89ba56605e86774368f59e9605715489340d2c31"
      },
      "cell_type": "code",
      "source": "data.shape",
      "execution_count": null,
      "outputs": []
    },
    {
      "metadata": {
        "_uuid": "71b255fc063ef2f58acf62c1cb74866ac8b42f70"
      },
      "cell_type": "markdown",
      "source": "data with negative fare_amount has been removed"
    },
    {
      "metadata": {
        "_uuid": "7489c72b6f60e7428c8d932f3ab702216b275b5b"
      },
      "cell_type": "markdown",
      "source": "\n\n================================================"
    },
    {
      "metadata": {
        "_uuid": "1d05d36f2ee756f653185e6ba4615d73eb034686"
      },
      "cell_type": "markdown",
      "source": "-find NaN values in given dataset and fill/replace it"
    },
    {
      "metadata": {
        "trusted": true,
        "_uuid": "d8c7d39ac3f70c3fd40cd3883170a8d86f9eb384"
      },
      "cell_type": "code",
      "source": "data.isnull().sum()",
      "execution_count": null,
      "outputs": []
    },
    {
      "metadata": {
        "_uuid": "2f1967f0635c38d1623c6d8b567bdcd5f7ff9e40"
      },
      "cell_type": "markdown",
      "source": "\n**longitude and latitude **\n\nfound NaN values in columns dropoff_longitude and dropoff_latitude     \nWe found NaN values in columns i) dropoff_longitude and ii) dropoff_latitude  which is not much as comapared to our dataset. So we will replace it by mean values\n\n**Changed the idea **"
    },
    {
      "metadata": {
        "trusted": true,
        "_uuid": "8339838763735d68af2ca54267eb01299ea7423e"
      },
      "cell_type": "code",
      "source": "print(data.pickup_latitude.head(5))\nprint(data.dropoff_latitude.head(5))",
      "execution_count": null,
      "outputs": []
    },
    {
      "metadata": {
        "_uuid": "4321b8d57109efde0d0797c8d14092a93fd8614e"
      },
      "cell_type": "markdown",
      "source": "-------------------------------\nCheck test data latitude and longitude range for New your City (40° 42' 51\" N / 74° 0' 23\" W)"
    },
    {
      "metadata": {
        "trusted": true,
        "_uuid": "397fe7d4c8368f96e5d20df1985937750f959485"
      },
      "cell_type": "code",
      "source": "test_data=pd.read_csv('../input/test.csv')\ntest_data.head(5)",
      "execution_count": null,
      "outputs": []
    },
    {
      "metadata": {
        "trusted": true,
        "_uuid": "667b5b9a0052920b83729f0bfa878bf4ad1f0cef"
      },
      "cell_type": "code",
      "source": "test_data.columns",
      "execution_count": null,
      "outputs": []
    },
    {
      "metadata": {
        "_uuid": "e1e6254bac1d04b5bce8e68cb43824e203ff2a18"
      },
      "cell_type": "markdown",
      "source": "longitude  max and min (test data)"
    },
    {
      "metadata": {
        "trusted": true,
        "_uuid": "c80dd2866b9b4d39871e51182168159992e4a7c8"
      },
      "cell_type": "code",
      "source": "lon_min=min(test_data.pickup_longitude.min(),test_data.dropoff_longitude.min())\nlon_max=max(test_data.pickup_longitude.max(),test_data.dropoff_longitude.max())\nprint(lon_min,',',lon_max)",
      "execution_count": null,
      "outputs": []
    },
    {
      "metadata": {
        "_uuid": "cb4a5a290c570e2e57f954e66e63012167d954cb"
      },
      "cell_type": "markdown",
      "source": "latitude max and min (test data)"
    },
    {
      "metadata": {
        "trusted": true,
        "_uuid": "e2c811456412af629f6b40da4ff4c6e3a614270d"
      },
      "cell_type": "code",
      "source": "lat_min=min(test_data.pickup_latitude.min(),test_data.dropoff_latitude.min())\nlat_max=max(test_data.pickup_latitude.max(),test_data.dropoff_latitude.max())\nprint(lat_min,',',lat_max)",
      "execution_count": null,
      "outputs": []
    },
    {
      "metadata": {
        "_uuid": "e064ced4ce303e6dacb386c4781c3b1410def26f"
      },
      "cell_type": "markdown",
      "source": "--------------------------------------------"
    },
    {
      "metadata": {
        "_uuid": "b0a5b0a5a50a6ec81659ef9651d3e4cc5ba0adfa"
      },
      "cell_type": "markdown",
      "source": "Apply the same range on train data and drop remaining \n\n**#pickup_latitude** & **dropoff_latitude** must be between lat_max and lat_min"
    },
    {
      "metadata": {
        "trusted": true,
        "_uuid": "febba076243392612dce6b5c8ddfbc364380c1c4"
      },
      "cell_type": "code",
      "source": "data[(data.pickup_latitude< lat_min) | (data.pickup_latitude>lat_max) ]",
      "execution_count": null,
      "outputs": []
    },
    {
      "metadata": {
        "trusted": true,
        "_uuid": "d4a7f89b35206b2045692e2808bdb0a32c8f5ec3"
      },
      "cell_type": "code",
      "source": "data.drop(data[(data.pickup_latitude< lat_min) | (data.pickup_latitude>lat_max)].index,axis=0,inplace=True)",
      "execution_count": null,
      "outputs": []
    },
    {
      "metadata": {
        "trusted": true,
        "_uuid": "2080b7d92b42fe5015d36eaf2d348ca152f69255"
      },
      "cell_type": "code",
      "source": "data[(data.dropoff_latitude< lat_min) | (data.dropoff_latitude>lat_max)]",
      "execution_count": null,
      "outputs": []
    },
    {
      "metadata": {
        "trusted": true,
        "_uuid": "d4b7f99eaac0166f9e9e89dbd3eaa9c934b5db00"
      },
      "cell_type": "code",
      "source": "\ndata.drop(data[(data.dropoff_latitude<lat_min) | (data.dropoff_latitude>lat_max)].index,axis=0,inplace=True)",
      "execution_count": null,
      "outputs": []
    },
    {
      "metadata": {
        "_uuid": "95ab7f5ae26eb3a6e195a51ca80698c8417dc86a"
      },
      "cell_type": "markdown",
      "source": "**pickup_longitude and dropoff_longitude must be between lon_min and lon_max"
    },
    {
      "metadata": {
        "trusted": true,
        "_uuid": "46bfc32364d5be517666e39b4aef228a9c0c4c54"
      },
      "cell_type": "code",
      "source": "print(data.pickup_longitude.tail(5))\nprint(data.dropoff_longitude.tail(5))",
      "execution_count": null,
      "outputs": []
    },
    {
      "metadata": {
        "trusted": true,
        "_uuid": "837578bb5f0b25dbc3a5855cb9a55bd8601953fa"
      },
      "cell_type": "code",
      "source": "data.pickup_longitude.abs().head()",
      "execution_count": null,
      "outputs": []
    },
    {
      "metadata": {
        "trusted": true,
        "_uuid": "a382c66acf309a39747bea8a27955a8dea8306c3"
      },
      "cell_type": "code",
      "source": "data[(data.pickup_longitude<lon_min) | (data.pickup_longitude>lon_max)]",
      "execution_count": null,
      "outputs": []
    },
    {
      "metadata": {
        "trusted": true,
        "_uuid": "8b1a5664927cbc2a0e7dfb615e06b8ad7b0a8fd7"
      },
      "cell_type": "code",
      "source": "data.drop(data[(data.pickup_longitude<lon_min) | (data.pickup_longitude>lon_max)].index,axis=0,inplace=True)",
      "execution_count": null,
      "outputs": []
    },
    {
      "metadata": {
        "trusted": true,
        "_uuid": "27466b55b55d4ebf3488213fc72bbbe9a5362af7"
      },
      "cell_type": "code",
      "source": "# dropoff\ndata[(data.dropoff_longitude<lon_min) | (data.dropoff_longitude>lon_max)]",
      "execution_count": null,
      "outputs": []
    },
    {
      "metadata": {
        "trusted": true,
        "_uuid": "2d4f38db74f09d88d470aacc181894db262575b6"
      },
      "cell_type": "code",
      "source": "data.drop(data[(data.dropoff_longitude<lon_min) | (data.dropoff_longitude>lon_max)].index,axis=0,inplace=True)",
      "execution_count": null,
      "outputs": []
    },
    {
      "metadata": {
        "_uuid": "2f8d19d35b5ea0e620758e5ddeb57ef6b8f1d4ad"
      },
      "cell_type": "markdown",
      "source": "\nlet's see NaN Values now from both dropoff_longitude and dropoff_latitude ."
    },
    {
      "metadata": {
        "trusted": true,
        "_uuid": "a822b173d5815db87febaf18e4124d26e1d2f64b"
      },
      "cell_type": "code",
      "source": "data.isnull().sum()",
      "execution_count": null,
      "outputs": []
    },
    {
      "metadata": {
        "trusted": true,
        "_uuid": "add136ef7996e158122394022218d91e6bef0f4f"
      },
      "cell_type": "code",
      "source": "data[data.dropoff_longitude.isnull()==True].head(1)",
      "execution_count": null,
      "outputs": []
    },
    {
      "metadata": {
        "trusted": true,
        "_uuid": "867e318df2a3d01756c328deae572ef0237d0ab7"
      },
      "cell_type": "code",
      "source": "data.drop(data[data.dropoff_longitude.isnull()==True].index,axis=0,inplace=True)",
      "execution_count": null,
      "outputs": []
    },
    {
      "metadata": {
        "trusted": true,
        "_uuid": "b5ea7cf87aa3b50e55fd7250499943aee6a0fe88"
      },
      "cell_type": "code",
      "source": "data.isnull().sum()",
      "execution_count": null,
      "outputs": []
    },
    {
      "metadata": {
        "_uuid": "208fd79c6ac2a6ea833395cb1c8dd2d6158c3326"
      },
      "cell_type": "markdown",
      "source": "\n"
    },
    {
      "metadata": {
        "_uuid": "3066aa82f9292f02f17fdab09e017e183e8eafc3"
      },
      "cell_type": "markdown",
      "source": "**passenger_count** column"
    },
    {
      "metadata": {
        "trusted": true,
        "_uuid": "852e9f2da2d488b17dfd64123e86e009d2ff25c5"
      },
      "cell_type": "code",
      "source": "data.describe()",
      "execution_count": null,
      "outputs": []
    },
    {
      "metadata": {
        "_uuid": "caff316a36735e93f49e360ea1083498c413dc39"
      },
      "cell_type": "markdown",
      "source": "\nOutliers :\nHere we can see min passenger_count : 0.000000e+00 =0 and max of passenger_count : 2.080000e+02\n = 208 (Outlier). "
    },
    {
      "metadata": {
        "trusted": true,
        "_uuid": "5da00dc32f11a179633578205b864a3536be61c1"
      },
      "cell_type": "code",
      "source": "plt.scatter(x=data.passenger_count,y=data.index)\nplt.ylabel('Index')\nplt.xlabel('passenger_count')\nplt.show()",
      "execution_count": null,
      "outputs": []
    },
    {
      "metadata": {
        "trusted": true,
        "_uuid": "92e2f8f999cd05a5ee26f4ff6a4946a1bb2e58d9"
      },
      "cell_type": "code",
      "source": "data['passenger_count'][data.passenger_count==0].count()",
      "execution_count": null,
      "outputs": []
    },
    {
      "metadata": {
        "trusted": true,
        "_uuid": "78a37a2533ff0e38ead49428b5546239ff40547d"
      },
      "cell_type": "code",
      "source": "print(data.shape)\ndata.drop(data[data.passenger_count==0].index,axis=0,inplace=True)\nprint(data.shape)",
      "execution_count": null,
      "outputs": []
    },
    {
      "metadata": {
        "_uuid": "4cfcd26af1e9bf0078cb0bf9a83f4c32b0295b47"
      },
      "cell_type": "markdown",
      "source": "Now,let's drop Outliers"
    },
    {
      "metadata": {
        "trusted": true,
        "_uuid": "55ebf32c8b35ca031e46c9f7d9e86637fcb75ad6"
      },
      "cell_type": "code",
      "source": "print(data.shape)\ndata.drop(data[data.passenger_count>8].index,axis=0,inplace=True)\nprint(data.shape)",
      "execution_count": null,
      "outputs": []
    },
    {
      "metadata": {
        "_uuid": "f473cc2a542c03e24c231de6958e45ffb67a8570"
      },
      "cell_type": "markdown",
      "source": "\n"
    },
    {
      "metadata": {
        "_uuid": "ddca2f87717ccaae912727ab1305c897fd3369de"
      },
      "cell_type": "markdown",
      "source": "Cleaning done..."
    },
    {
      "metadata": {
        "_uuid": "b249ed5499fba2b1d800064f1b1d0d1dd0f781d3"
      },
      "cell_type": "markdown",
      "source": "**Type conversion (data formating) :\npickup_datetime **"
    },
    {
      "metadata": {
        "trusted": true,
        "_uuid": "a3548fea3f1a5e67cfa9c4361376a6f9ca150a7d"
      },
      "cell_type": "code",
      "source": "data.dtypes",
      "execution_count": null,
      "outputs": []
    },
    {
      "metadata": {
        "trusted": true,
        "collapsed": true,
        "_uuid": "8acf6fa524be760e7d18d473d4dd6d618a160c46"
      },
      "cell_type": "markdown",
      "source": "observed type of column pickup_datetime is an object . will convert it to datetime format"
    },
    {
      "metadata": {
        "trusted": true,
        "_uuid": "f0619d3bb21ac14810cef078ca9b652ded325521"
      },
      "cell_type": "code",
      "source": "data['pickup_datetime'].head(1)",
      "execution_count": null,
      "outputs": []
    },
    {
      "metadata": {
        "_uuid": "9394fe5635315b5e92c2b75602a982f5318fc127"
      },
      "cell_type": "markdown",
      "source": "Problem faced: to_datetime - too slow"
    },
    {
      "metadata": {
        "trusted": true,
        "_uuid": "27f47327bff28ca43ea686ee2d27cba1257de817"
      },
      "cell_type": "code",
      "source": "data['pickup_datetime']=pd.to_datetime(data['pickup_datetime'], infer_datetime_format=True)",
      "execution_count": null,
      "outputs": []
    },
    {
      "metadata": {
        "trusted": true,
        "_uuid": "cb4ce2c28caf824566892bc54695ff0e7ec16553"
      },
      "cell_type": "code",
      "source": "data['pickup_datetime'].head(1)",
      "execution_count": null,
      "outputs": []
    },
    {
      "metadata": {
        "_uuid": "c1367cf74cc4856c98f153d16179517547061282"
      },
      "cell_type": "markdown",
      "source": "\nsplit the datetime"
    },
    {
      "metadata": {
        "trusted": true,
        "_uuid": "05554fa46d09205327f8e07d3d8f2633440e9d31"
      },
      "cell_type": "code",
      "source": "data['year'] = data['pickup_datetime'].dt.year\ndata['Month'] = data['pickup_datetime'].dt.month\ndata['Date'] = data['pickup_datetime'].dt.day\ndata['Day of Week'] = data['pickup_datetime'].dt.dayofweek\ndata['Hour'] = data['pickup_datetime'].dt.hour\ndata['Minute'] = data['pickup_datetime'].dt.minute",
      "execution_count": null,
      "outputs": []
    },
    {
      "metadata": {
        "_uuid": "0b8d0002a1a0b4fe448fcdb5e434f8e7882dc1cf"
      },
      "cell_type": "markdown",
      "source": "**Distance **\n\nCalculate the distance based on longitude and latitude \n\nHaversine formula:\n\ndlon = lon2 - lon1 \ndlat = lat2 - lat1 \na = (sin(dlat/2))^2 + cos(lat1) * cos(lat2) * (sin(dlon/2))^2 \nc = 2 * atan2( sqrt(a), sqrt(1-a) ) \nd = R * c (where R is the radius of the Earth)\n\n#a = sin²(Δφ/2) + cos φ1 ⋅ cos φ2 ⋅ sin²(Δλ/2)\n#c = 2 ⋅ atan2( √a, √(1−a) )\n#d = R ⋅ c"
    },
    {
      "metadata": {
        "trusted": true,
        "_uuid": "39a8f38b7ea7528fdb25546097cc1e2914eb6dab"
      },
      "cell_type": "code",
      "source": "from math import radians, cos, sin, asin, sqrt\ndef haversine(a):\n    lon1=a[0]\n    lat1=a[1]\n    lon2=a[2]\n    lat2=a[3]\n    \"\"\"\n    Calculate the great circle distance between two points \n    on the earth (specified in decimal degrees)\n    \"\"\"\n    # convert decimal degrees to radians \n    lon1, lat1, lon2, lat2 = map(radians, [lon1, lat1, lon2, lat2])\n    # haversine formula \n    dlon = lon2 - lon1 \n    dlat = lat2 - lat1 \n    a = sin(dlat/2)**2 + cos(lat1) * cos(lat2) * sin(dlon/2)**2\n    c =  2 * asin(sqrt(a)) \n    # Radius of earth in kilometers is 6371\n    km = 6371* c\n    return km\n# 1min ",
      "execution_count": null,
      "outputs": []
    },
    {
      "metadata": {
        "trusted": true,
        "_uuid": "490e4606cead6ab126d713dfdd9df5d6914a515a"
      },
      "cell_type": "code",
      "source": "data['distance']=data[['pickup_longitude','pickup_latitude','dropoff_longitude','dropoff_latitude']].apply(haversine,axis=1)",
      "execution_count": null,
      "outputs": []
    },
    {
      "metadata": {
        "trusted": true,
        "_uuid": "f8cce93cd83e4c387ed367676f635d71b3907121"
      },
      "cell_type": "code",
      "source": "data[\"distance\"].head(5)",
      "execution_count": null,
      "outputs": []
    },
    {
      "metadata": {
        "trusted": true,
        "_uuid": "2e32156dfda46e3622dc8ac65d42da17efd63754"
      },
      "cell_type": "code",
      "source": "#Analyze column distance ,and drop the rows if necessary to drop\ndata[data.distance==0].shape  # found records with 0 distnace ",
      "execution_count": null,
      "outputs": []
    },
    {
      "metadata": {
        "trusted": true,
        "_uuid": "0e5aecfc56f7cc1a918e777a3add590b2b8394cf"
      },
      "cell_type": "code",
      "source": "print(data.shape)\ndata.drop(data[data.distance==0].index,axis=0, inplace=True) # drop the rows having records of distance as 0\nprint(data.shape)",
      "execution_count": null,
      "outputs": []
    },
    {
      "metadata": {
        "_uuid": "fee9954947e719e68e53e26b28c9a02f248894a6"
      },
      "cell_type": "markdown",
      "source": "**Exploratory Data Analysis**"
    },
    {
      "metadata": {
        "_uuid": "8e4371a5f374fe0b2a2d3a41005ddd53a8aa971b"
      },
      "cell_type": "markdown",
      "source": "**1)Check the pickup date and time affect the fare or not**"
    },
    {
      "metadata": {
        "trusted": true,
        "_uuid": "f0891a205ec4fc82417d7af88d89510b3cafddbb"
      },
      "cell_type": "code",
      "source": "plt.figure(figsize=(15,7))\nplt.scatter(x=data['Date'], y=data['fare_amount'], s=1.5)\nplt.xlabel('Date')\nplt.ylabel('Fare')",
      "execution_count": null,
      "outputs": []
    },
    {
      "metadata": {
        "_uuid": "0e95a1a322a78f9029f8b57c5ec1d88be849c7e5"
      },
      "cell_type": "markdown",
      "source": "The fares throught the month mostly seem uniform"
    },
    {
      "metadata": {
        "trusted": true,
        "_uuid": "b36b2f79c2225af8dceef2af40c23a7ab3ceb13a"
      },
      "cell_type": "code",
      "source": "plt.figure(figsize=(15,7))\nplt.hist(data['Hour'], bins=100)\nplt.xlabel('Hour')\nplt.ylabel('Frequency')",
      "execution_count": null,
      "outputs": []
    },
    {
      "metadata": {
        "_uuid": "b4d3561ea9583ec6fee4c2e9b0f05012ef04e783"
      },
      "cell_type": "markdown",
      "source": "The time of day definitely plays an important role. The frequency of cab rides seem to be the lowest at 5AM "
    },
    {
      "metadata": {
        "trusted": true,
        "_uuid": "d70770d1d5ffa66d25c2cf4d22ce85a24411afcf"
      },
      "cell_type": "code",
      "source": "plt.figure(figsize=(15,7))\nplt.scatter(x=data['Hour'], y=data['fare_amount'], s=1.5)\nplt.xlabel('Hour')\nplt.ylabel('Fare')",
      "execution_count": null,
      "outputs": []
    },
    {
      "metadata": {
        "_uuid": "d323bd74ac6ac8663f95944e50afea8029847c1c"
      },
      "cell_type": "markdown",
      "source": "**2)number of passengers vs fare**"
    },
    {
      "metadata": {
        "trusted": true,
        "_uuid": "b61fa8a0e604272f815ea0b71c1ef976b7b3e4e8"
      },
      "cell_type": "code",
      "source": "plt.figure(figsize=(15,7))\nplt.hist(data['passenger_count'], bins=15)\nplt.xlabel('No. of Passengers')\nplt.ylabel('Frequency')",
      "execution_count": null,
      "outputs": []
    },
    {
      "metadata": {
        "trusted": true,
        "_uuid": "e11b4ec973cc9d5d24f50dd8a2102d2b63ac7a32"
      },
      "cell_type": "code",
      "source": "plt.figure(figsize=(15,7))\nplt.scatter(x=data['passenger_count'], y=data['fare_amount'], s=1.5)\nplt.xlabel('No. of Passengers')\nplt.ylabel('Fare')",
      "execution_count": null,
      "outputs": []
    },
    {
      "metadata": {
        "_uuid": "b275d89ae848d98bd906066a65b2ce61f4c3b5f8"
      },
      "cell_type": "markdown",
      "source": "single passengers are the most frequent travellers, and the highest fare also seems to come from cabs which carry just 1 passenger."
    },
    {
      "metadata": {
        "_uuid": "2f6a9f7f64ef7a9737a19721535b751a877d8058"
      },
      "cell_type": "markdown",
      "source": "**3)Does the day of the week affect the fare?**"
    },
    {
      "metadata": {
        "trusted": true,
        "_uuid": "51a74a6425657640cde1f50d5008382601e85818"
      },
      "cell_type": "code",
      "source": "plt.figure(figsize=(15,7))\nplt.hist(data['Day of Week'], bins=100)\nplt.xlabel('Day of Week')\nplt.ylabel('Frequency')\n#0 means Saturday",
      "execution_count": null,
      "outputs": []
    },
    {
      "metadata": {
        "_uuid": "834a61fb231b1a333fcc17dd753dbc2fd3050922"
      },
      "cell_type": "markdown",
      "source": " day of the week doesn't seem to have the effect on the number of cab rides"
    },
    {
      "metadata": {
        "_uuid": "0453896a0d38436e95561a38cdb40a02697f3fcd"
      },
      "cell_type": "markdown",
      "source": "**Test Data**"
    },
    {
      "metadata": {
        "trusted": true,
        "_uuid": "c7909cea1a99cb64d3265405b8917f90c15d7960"
      },
      "cell_type": "code",
      "source": "test_data=pd.read_csv(\"../input/test.csv\")\ntest_data.head()",
      "execution_count": null,
      "outputs": []
    },
    {
      "metadata": {
        "trusted": true,
        "_uuid": "f1b6dea044626a4fcb977c4ab5506baa5664c98e"
      },
      "cell_type": "code",
      "source": "test_data.dtypes",
      "execution_count": null,
      "outputs": []
    },
    {
      "metadata": {
        "_uuid": "9484144f34ab7aa053e0e8b01f2b84c96848d45b"
      },
      "cell_type": "markdown",
      "source": "Convert key and pickup_datetime to correct format"
    },
    {
      "metadata": {
        "trusted": true,
        "_uuid": "f4abe9e36a0ee01d7d5e2ac91e8a30ccd387f6fc"
      },
      "cell_type": "code",
      "source": "test_data['key']=pd.to_datetime(test_data['key'], infer_datetime_format=True)\ntest_data['pickup_datetime']=pd.to_datetime(test_data['pickup_datetime'], infer_datetime_format=True)",
      "execution_count": null,
      "outputs": []
    },
    {
      "metadata": {
        "trusted": true,
        "_uuid": "486f8656226621c7bea85abef1e70c6b93b32e9d"
      },
      "cell_type": "code",
      "source": "test_data.dtypes",
      "execution_count": null,
      "outputs": []
    },
    {
      "metadata": {
        "trusted": true,
        "_uuid": "98f01d42ed6d37772117a44d25dfd4e848564db9"
      },
      "cell_type": "code",
      "source": "test_data['year'] = test_data['pickup_datetime'].dt.year\ntest_data['Month'] = test_data['pickup_datetime'].dt.month\ntest_data['Date'] = test_data['pickup_datetime'].dt.day\ntest_data['Day of Week'] = test_data['pickup_datetime'].dt.dayofweek\ntest_data['Hour'] = test_data['pickup_datetime'].dt.hour\ntest_data['Minute'] = test_data['pickup_datetime'].dt.minute",
      "execution_count": null,
      "outputs": []
    },
    {
      "metadata": {
        "trusted": true,
        "_uuid": "839fe24890380092476d546a820972595ef6b18b"
      },
      "cell_type": "code",
      "source": "test_data.head(3)",
      "execution_count": null,
      "outputs": []
    },
    {
      "metadata": {
        "trusted": true,
        "_uuid": "5f4c89091aab3ed2842546fccbed286d04e22049"
      },
      "cell_type": "code",
      "source": "test_data.isnull().sum()",
      "execution_count": null,
      "outputs": []
    },
    {
      "metadata": {
        "trusted": true,
        "_uuid": "fca4549cc86f88ae4c8306e833132ff6997f291d"
      },
      "cell_type": "code",
      "source": "from math import radians, cos, sin, asin, sqrt,atan2\ndef haversine(a):\n    lon1=a[0]\n    lat1=a[1]\n    lon2=a[2]\n    lat2=a[3]\n    \"\"\"\n    Calculate the great circle distance between two points \n    on the earth (specified in decimal degrees)\n    \"\"\"\n    # convert decimal degrees to radians \n    lon1, lat1, lon2, lat2 = map(radians, [lon1, lat1, lon2, lat2])\n    # haversine formula \n    dlon = lon2 - lon1 \n    dlat = lat2 - lat1 \n    a = sin(dlat/2)**2 + cos(lat1) * cos(lat2) * sin(dlon/2)**2\n    c = 2 * asin(sqrt(a)) \n    # Radius of earth in kilometers is 6371\n    km = 6371* c\n    return km\n# 1min ",
      "execution_count": null,
      "outputs": []
    },
    {
      "metadata": {
        "trusted": true,
        "_uuid": "df28309590867ccd8210164119337c1a5a9bdd58"
      },
      "cell_type": "code",
      "source": "test_data['distance']=test_data[['pickup_longitude','pickup_latitude','dropoff_longitude','dropoff_latitude']].apply(haversine,axis=1)",
      "execution_count": null,
      "outputs": []
    },
    {
      "metadata": {
        "trusted": true,
        "_uuid": "d1e8949c87e69d0a0837b8e0b7dbe2893add7303"
      },
      "cell_type": "code",
      "source": "test_data['distance'].describe()",
      "execution_count": null,
      "outputs": []
    },
    {
      "metadata": {
        "trusted": true,
        "_uuid": "cf22485ee1317d89d44d9829695b7ed2b707f12b"
      },
      "cell_type": "code",
      "source": "#test_data[test_data.distance==0]",
      "execution_count": null,
      "outputs": []
    },
    {
      "metadata": {
        "trusted": true,
        "_uuid": "d4224f9916b904b863adf1d90625108365178891"
      },
      "cell_type": "code",
      "source": "test_data.columns",
      "execution_count": null,
      "outputs": []
    },
    {
      "metadata": {
        "_uuid": "8d4ee7b443dc9c7801086fc65850a7f8056cd13b"
      },
      "cell_type": "markdown",
      "source": "**Machine Learning Algorithm**"
    },
    {
      "metadata": {
        "_uuid": "6cc86f493f0e8c4132a167120b460b3a3d8f9a2c"
      },
      "cell_type": "markdown",
      "source": "Train data"
    },
    {
      "metadata": {
        "trusted": true,
        "_uuid": "df7a606374cbf7363f67cdae0b8b17622e7f4448"
      },
      "cell_type": "code",
      "source": "data.dtypes",
      "execution_count": null,
      "outputs": []
    },
    {
      "metadata": {
        "trusted": true,
        "_uuid": "e4ad11572109d88e2927fd0111938bf1a339ff42"
      },
      "cell_type": "code",
      "source": "#drop pickup_datetime as we can't use directly in our model\nprint(data.shape)\ndata=data.drop('pickup_datetime',axis=1)\nprint(data.shape)",
      "execution_count": null,
      "outputs": []
    },
    {
      "metadata": {
        "trusted": true,
        "_uuid": "ed5fdc6424baed8b46f65840edfa1b66c8f58e20"
      },
      "cell_type": "code",
      "source": "data.dtypes",
      "execution_count": null,
      "outputs": []
    },
    {
      "metadata": {
        "trusted": true,
        "_uuid": "20f58824acea3c437f61e9ec0c4aeee3c544953f"
      },
      "cell_type": "code",
      "source": "data.iloc[:,:].head(1)",
      "execution_count": null,
      "outputs": []
    },
    {
      "metadata": {
        "trusted": true,
        "_uuid": "b9c79976f95f822bf300d452628a1796c64c2753"
      },
      "cell_type": "code",
      "source": "X=data.drop(\"fare_amount\",axis=1)\ny=data.iloc[:,0].values",
      "execution_count": null,
      "outputs": []
    },
    {
      "metadata": {
        "trusted": true,
        "_uuid": "d663de8c2aa37618d329758a6179a084cb074110"
      },
      "cell_type": "code",
      "source": "X.shape",
      "execution_count": null,
      "outputs": []
    },
    {
      "metadata": {
        "trusted": true,
        "_uuid": "71b237b1c63a32dd3679649ece32cc236dbbdafc"
      },
      "cell_type": "code",
      "source": "y.shape",
      "execution_count": null,
      "outputs": []
    },
    {
      "metadata": {
        "_uuid": "c67f7e2f003f183570186d80014dfc96c83055d6"
      },
      "cell_type": "markdown",
      "source": "#to check accuracy"
    },
    {
      "metadata": {
        "trusted": true,
        "_uuid": "49fdf2acac2032cc2965d8626feba8e79379cd51"
      },
      "cell_type": "code",
      "source": "#from sklearn.model_selection import train_test_split\n#train_X, val_X, train_y, val_y =train_test_split(X,y,test_size=0.2,random_state=0)",
      "execution_count": null,
      "outputs": []
    },
    {
      "metadata": {
        "trusted": true,
        "_uuid": "c0a4a80ef5f9a085e5c2f8cae81819c9c9eb4ba3"
      },
      "cell_type": "code",
      "source": "#from sklearn.ensemble  import RandomForestRegressor\n#Regression =RandomForestRegressor(random_state=0)\n#Regression.fit(train_X,train_y)\n#y_pred=Regression.predict(val_X)",
      "execution_count": null,
      "outputs": []
    },
    {
      "metadata": {
        "trusted": true,
        "_uuid": "25b43aaac112d365cd5d9453883e09c7c1684249"
      },
      "cell_type": "code",
      "source": "#import xgboost\n#Regression_xgbooost =xgboost.XGBRegressor(n_estimator=201,max_depth=17,random_state=0)\n#Regression_xgbooost.fit(train_X,train_y)\n#y_pred=Regression_xgbooost.predict(val_X)",
      "execution_count": null,
      "outputs": []
    },
    {
      "metadata": {
        "trusted": true,
        "_uuid": "fe0a79e763ecc445c57ffc87b46f043145bb09a6"
      },
      "cell_type": "code",
      "source": "#from sklearn.metrics import mean_absolute_error\n#print(mean_absolute_error(val_y,y_pred))",
      "execution_count": null,
      "outputs": []
    },
    {
      "metadata": {
        "_uuid": "9a114adab01080e4f40ffdb60bda09332ba1c2e7"
      },
      "cell_type": "markdown",
      "source": "test_data"
    },
    {
      "metadata": {
        "trusted": true,
        "_uuid": "7951a7062ffb413391a51ce6c2828a77de0bdf7a"
      },
      "cell_type": "code",
      "source": "X_test=test_data\nprint(X_test.columns)\nprint(X_test.shape)\nprint(X_test.dtypes)",
      "execution_count": null,
      "outputs": []
    },
    {
      "metadata": {
        "trusted": true,
        "_uuid": "8ea87b64bfe0e712b902d367e13efa893e12cefe"
      },
      "cell_type": "code",
      "source": "X_test.drop([\"key\",\"pickup_datetime\"],axis=1,inplace=True)",
      "execution_count": null,
      "outputs": []
    },
    {
      "metadata": {
        "trusted": true,
        "_uuid": "8d9c8cb7c6ae126973d99237f38628c1c6a490e4"
      },
      "cell_type": "code",
      "source": "print(X_test.shape)\nprint(X_test.dtypes)",
      "execution_count": null,
      "outputs": []
    },
    {
      "metadata": {
        "trusted": true,
        "_uuid": "0b3d6dbada732048bb3cc2f89672852b482b3f56"
      },
      "cell_type": "code",
      "source": "",
      "execution_count": null,
      "outputs": []
    },
    {
      "metadata": {
        "trusted": true,
        "_uuid": "da8a1da35d479a31ae64c8ce2f4051c9bc2c50b1",
        "collapsed": true
      },
      "cell_type": "code",
      "source": "#from sklearn.ensemble  import RandomForestRegressor\n#Regression =RandomForestRegressor(n_estimators=70,min_samples_leaf=5,random_state=0)\n#Regression.fit(X,y)\n#y_test_pred=Regression.predict(X_test)\n#print(y_test_pred)",
      "execution_count": null,
      "outputs": []
    },
    {
      "metadata": {
        "trusted": true,
        "_uuid": "9e97218da6f8cfebe02c957a72345f200acf2e97"
      },
      "cell_type": "code",
      "source": "import xgboost\nRegression_xgbooost =xgboost.XGBRegressor(n_estimators=300,max_depth=15,max_leaves=9,random_state=0)\nRegression_xgbooost.fit(X,y)\ny_test_pred=Regression_xgbooost.predict(X_test)\nprint(y_test_pred)",
      "execution_count": null,
      "outputs": []
    },
    {
      "metadata": {
        "trusted": true,
        "collapsed": true,
        "_uuid": "9499b5310765dc5009c2b09b03438172696008df"
      },
      "cell_type": "markdown",
      "source": "**submission**"
    },
    {
      "metadata": {
        "trusted": true,
        "_uuid": "90e29ad9466260bc46d7b9e974bc84c342d05b74",
        "collapsed": true
      },
      "cell_type": "code",
      "source": "submission = pd.read_csv('../input/sample_submission.csv')\nsubmission['fare_amount'] = y_test_pred\nsubmission.to_csv('submission_K_39k_300_15_9.csv', index=False)\nsubmission",
      "execution_count": null,
      "outputs": []
    },
    {
      "metadata": {
        "_uuid": "62ebb77d791cb2ec185aacf51b966972e9c9166a"
      },
      "cell_type": "markdown",
      "source": "---------------------------"
    },
    {
      "metadata": {
        "trusted": true,
        "_uuid": "9fd66034aef20fff0ab4d93d75611216d7f79dce",
        "collapsed": true
      },
      "cell_type": "code",
      "source": "from sklearn.model_selection import train_test_split\ntrain_X, val_X, train_y, val_y =train_test_split(X,y,test_size=0.2,random_state=0)",
      "execution_count": null,
      "outputs": []
    },
    {
      "metadata": {
        "trusted": true,
        "_uuid": "e0da06b0e3e4ffe1799ff1fb6cc2c4d80aeb01cf",
        "collapsed": true
      },
      "cell_type": "code",
      "source": "import xgboost\nRegression_xgbooost =xgboost.XGBRegressor(n_estimators=300,max_depth=15,max_leaves=9,random_state=0)\nRegression_xgbooost.fit(train_X,train_y)\ny_pred=Regression_xgbooost.predict(val_X)",
      "execution_count": null,
      "outputs": []
    },
    {
      "metadata": {
        "trusted": true,
        "_uuid": "b3faca9047deea56d82480e4001eb6523dec4d53",
        "collapsed": true
      },
      "cell_type": "code",
      "source": "from sklearn.metrics import mean_absolute_error\nprint(mean_absolute_error(val_y,y_pred))",
      "execution_count": null,
      "outputs": []
    }
  ],
  "metadata": {
    "kernelspec": {
      "display_name": "Python 3",
      "language": "python",
      "name": "python3"
    },
    "language_info": {
      "name": "python",
      "version": "3.6.6",
      "mimetype": "text/x-python",
      "codemirror_mode": {
        "name": "ipython",
        "version": 3
      },
      "pygments_lexer": "ipython3",
      "nbconvert_exporter": "python",
      "file_extension": ".py"
    }
  },
  "nbformat": 4,
  "nbformat_minor": 1
}